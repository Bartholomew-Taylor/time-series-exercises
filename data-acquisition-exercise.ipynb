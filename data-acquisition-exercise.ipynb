{
 "cells": [
  {
   "cell_type": "code",
   "execution_count": 11,
   "id": "e0cc9313",
   "metadata": {},
   "outputs": [],
   "source": [
    "import requests\n",
    "import pandas as pd\n",
    "import csv"
   ]
  },
  {
   "cell_type": "code",
   "execution_count": 4,
   "id": "aed5f17e",
   "metadata": {},
   "outputs": [],
   "source": [
    "url = 'https://swapi.dev/api/planets/'"
   ]
  },
  {
   "cell_type": "code",
   "execution_count": 5,
   "id": "124a7cab",
   "metadata": {},
   "outputs": [],
   "source": [
    "response = requests.get(url)"
   ]
  },
  {
   "cell_type": "code",
   "execution_count": 6,
   "id": "8e9bf9de",
   "metadata": {},
   "outputs": [
    {
     "data": {
      "text/plain": [
       "True"
      ]
     },
     "execution_count": 6,
     "metadata": {},
     "output_type": "execute_result"
    }
   ],
   "source": [
    "response.ok"
   ]
  },
  {
   "cell_type": "code",
   "execution_count": 7,
   "id": "9e43573c",
   "metadata": {},
   "outputs": [],
   "source": [
    "json = response.json()"
   ]
  },
  {
   "cell_type": "code",
   "execution_count": 8,
   "id": "42cc4f06",
   "metadata": {},
   "outputs": [
    {
     "data": {
      "text/plain": [
       "dict_keys(['count', 'next', 'previous', 'results'])"
      ]
     },
     "execution_count": 8,
     "metadata": {},
     "output_type": "execute_result"
    }
   ],
   "source": [
    "json.keys()"
   ]
  },
  {
   "cell_type": "code",
   "execution_count": 140,
   "id": "971c515c",
   "metadata": {},
   "outputs": [],
   "source": [
    "names = []\n",
    "rotation_period = []\n",
    "orbital_period = []\n",
    "diameter = []\n",
    "climate = []\n",
    "terrain = []\n",
    "population = []\n",
    "gravity = []\n",
    "\n",
    "\n",
    "\n",
    "for i in range(1, 70):\n",
    "    new_url = url + f'{i}/'\n",
    "    response = requests.get(new_url)\n",
    "    if response.ok == False:\n",
    "        continue\n",
    "    json = response.json()\n",
    "    \n",
    "    names.append(json['name'])\n",
    "    rotation_period.append(json['rotation_period'])\n",
    "    orbital_period.append(json['orbital_period'])\n",
    "    diameter.append(json['diameter'])\n",
    "    climate.append(json['climate'])\n",
    "    terrain.append(json['terrain'])\n",
    "    population.append(json['population'])\n",
    "    gravity.append(json['gravity'])\n",
    "    "
   ]
  },
  {
   "cell_type": "code",
   "execution_count": 141,
   "id": "68a8aa6d",
   "metadata": {},
   "outputs": [
    {
     "data": {
      "text/plain": [
       "(60, 60, 60, 60, 60, 60, 60, 60)"
      ]
     },
     "execution_count": 141,
     "metadata": {},
     "output_type": "execute_result"
    }
   ],
   "source": [
    "len(names), len(rotation_period), len(orbital_period), len(diameter), len(climate), len(terrain), len(population), len(gravity)\n",
    "\n"
   ]
  },
  {
   "cell_type": "code",
   "execution_count": 142,
   "id": "5c840d3a",
   "metadata": {},
   "outputs": [
    {
     "data": {
      "text/plain": [
       "['Tatooine',\n",
       " 'Alderaan',\n",
       " 'Yavin IV',\n",
       " 'Hoth',\n",
       " 'Dagobah',\n",
       " 'Bespin',\n",
       " 'Endor',\n",
       " 'Naboo',\n",
       " 'Coruscant',\n",
       " 'Kamino',\n",
       " 'Geonosis',\n",
       " 'Utapau',\n",
       " 'Mustafar',\n",
       " 'Kashyyyk',\n",
       " 'Polis Massa',\n",
       " 'Mygeeto',\n",
       " 'Felucia',\n",
       " 'Cato Neimoidia',\n",
       " 'Saleucami',\n",
       " 'Stewjon',\n",
       " 'Eriadu',\n",
       " 'Corellia',\n",
       " 'Rodia',\n",
       " 'Nal Hutta',\n",
       " 'Dantooine',\n",
       " 'Bestine IV',\n",
       " 'Ord Mantell',\n",
       " 'unknown',\n",
       " 'Trandosha',\n",
       " 'Socorro',\n",
       " 'Mon Cala',\n",
       " 'Chandrila',\n",
       " 'Sullust',\n",
       " 'Toydaria',\n",
       " 'Malastare',\n",
       " 'Dathomir',\n",
       " 'Ryloth',\n",
       " 'Aleen Minor',\n",
       " 'Vulpter',\n",
       " 'Troiken',\n",
       " 'Tund',\n",
       " 'Haruun Kal',\n",
       " 'Cerea',\n",
       " 'Glee Anselm',\n",
       " 'Iridonia',\n",
       " 'Tholoth',\n",
       " 'Iktotch',\n",
       " 'Quermia',\n",
       " 'Dorin',\n",
       " 'Champala',\n",
       " 'Mirial',\n",
       " 'Serenno',\n",
       " 'Concord Dawn',\n",
       " 'Zolan',\n",
       " 'Ojom',\n",
       " 'Skako',\n",
       " 'Muunilinst',\n",
       " 'Shili',\n",
       " 'Kalee',\n",
       " 'Umbara']"
      ]
     },
     "execution_count": 142,
     "metadata": {},
     "output_type": "execute_result"
    }
   ],
   "source": [
    "names"
   ]
  },
  {
   "cell_type": "code",
   "execution_count": 13,
   "id": "88c1c8e3",
   "metadata": {},
   "outputs": [],
   "source": [
    "planets = pd.DataFrame({'names': names,\n",
    "              'rotation period':rotation_period,\n",
    "              'orbital period': orbital_period,\n",
    "              'diameter':diameter,\n",
    "              'climate': climate,\n",
    "              'terrain':terrain,\n",
    "              'population': population,\n",
    "              'gravity':gravity})\n"
   ]
  },
  {
   "cell_type": "code",
   "execution_count": 14,
   "id": "e4365456",
   "metadata": {
    "scrolled": true
   },
   "outputs": [
    {
     "data": {
      "text/html": [
       "<div>\n",
       "<style scoped>\n",
       "    .dataframe tbody tr th:only-of-type {\n",
       "        vertical-align: middle;\n",
       "    }\n",
       "\n",
       "    .dataframe tbody tr th {\n",
       "        vertical-align: top;\n",
       "    }\n",
       "\n",
       "    .dataframe thead th {\n",
       "        text-align: right;\n",
       "    }\n",
       "</style>\n",
       "<table border=\"1\" class=\"dataframe\">\n",
       "  <thead>\n",
       "    <tr style=\"text-align: right;\">\n",
       "      <th></th>\n",
       "      <th>names</th>\n",
       "      <th>rotation period</th>\n",
       "      <th>orbital period</th>\n",
       "      <th>diameter</th>\n",
       "      <th>climate</th>\n",
       "      <th>terrain</th>\n",
       "      <th>population</th>\n",
       "      <th>gravity</th>\n",
       "    </tr>\n",
       "  </thead>\n",
       "  <tbody>\n",
       "    <tr>\n",
       "      <th>0</th>\n",
       "      <td>Tatooine</td>\n",
       "      <td>23</td>\n",
       "      <td>304</td>\n",
       "      <td>10465</td>\n",
       "      <td>arid</td>\n",
       "      <td>desert</td>\n",
       "      <td>200000</td>\n",
       "      <td>1 standard</td>\n",
       "    </tr>\n",
       "    <tr>\n",
       "      <th>1</th>\n",
       "      <td>Alderaan</td>\n",
       "      <td>24</td>\n",
       "      <td>364</td>\n",
       "      <td>12500</td>\n",
       "      <td>temperate</td>\n",
       "      <td>grasslands, mountains</td>\n",
       "      <td>2000000000</td>\n",
       "      <td>1 standard</td>\n",
       "    </tr>\n",
       "    <tr>\n",
       "      <th>2</th>\n",
       "      <td>Yavin IV</td>\n",
       "      <td>24</td>\n",
       "      <td>4818</td>\n",
       "      <td>10200</td>\n",
       "      <td>temperate, tropical</td>\n",
       "      <td>jungle, rainforests</td>\n",
       "      <td>1000</td>\n",
       "      <td>1 standard</td>\n",
       "    </tr>\n",
       "    <tr>\n",
       "      <th>3</th>\n",
       "      <td>Hoth</td>\n",
       "      <td>23</td>\n",
       "      <td>549</td>\n",
       "      <td>7200</td>\n",
       "      <td>frozen</td>\n",
       "      <td>tundra, ice caves, mountain ranges</td>\n",
       "      <td>unknown</td>\n",
       "      <td>1.1 standard</td>\n",
       "    </tr>\n",
       "    <tr>\n",
       "      <th>4</th>\n",
       "      <td>Dagobah</td>\n",
       "      <td>23</td>\n",
       "      <td>341</td>\n",
       "      <td>8900</td>\n",
       "      <td>murky</td>\n",
       "      <td>swamp, jungles</td>\n",
       "      <td>unknown</td>\n",
       "      <td>N/A</td>\n",
       "    </tr>\n",
       "    <tr>\n",
       "      <th>5</th>\n",
       "      <td>Bespin</td>\n",
       "      <td>12</td>\n",
       "      <td>5110</td>\n",
       "      <td>118000</td>\n",
       "      <td>temperate</td>\n",
       "      <td>gas giant</td>\n",
       "      <td>6000000</td>\n",
       "      <td>1.5 (surface), 1 standard (Cloud City)</td>\n",
       "    </tr>\n",
       "    <tr>\n",
       "      <th>6</th>\n",
       "      <td>Endor</td>\n",
       "      <td>18</td>\n",
       "      <td>402</td>\n",
       "      <td>4900</td>\n",
       "      <td>temperate</td>\n",
       "      <td>forests, mountains, lakes</td>\n",
       "      <td>30000000</td>\n",
       "      <td>0.85 standard</td>\n",
       "    </tr>\n",
       "    <tr>\n",
       "      <th>7</th>\n",
       "      <td>Naboo</td>\n",
       "      <td>26</td>\n",
       "      <td>312</td>\n",
       "      <td>12120</td>\n",
       "      <td>temperate</td>\n",
       "      <td>grassy hills, swamps, forests, mountains</td>\n",
       "      <td>4500000000</td>\n",
       "      <td>1 standard</td>\n",
       "    </tr>\n",
       "    <tr>\n",
       "      <th>8</th>\n",
       "      <td>Coruscant</td>\n",
       "      <td>24</td>\n",
       "      <td>368</td>\n",
       "      <td>12240</td>\n",
       "      <td>temperate</td>\n",
       "      <td>cityscape, mountains</td>\n",
       "      <td>1000000000000</td>\n",
       "      <td>1 standard</td>\n",
       "    </tr>\n",
       "    <tr>\n",
       "      <th>9</th>\n",
       "      <td>Kamino</td>\n",
       "      <td>27</td>\n",
       "      <td>463</td>\n",
       "      <td>19720</td>\n",
       "      <td>temperate</td>\n",
       "      <td>ocean</td>\n",
       "      <td>1000000000</td>\n",
       "      <td>1 standard</td>\n",
       "    </tr>\n",
       "    <tr>\n",
       "      <th>10</th>\n",
       "      <td>Geonosis</td>\n",
       "      <td>30</td>\n",
       "      <td>256</td>\n",
       "      <td>11370</td>\n",
       "      <td>temperate, arid</td>\n",
       "      <td>rock, desert, mountain, barren</td>\n",
       "      <td>100000000000</td>\n",
       "      <td>0.9 standard</td>\n",
       "    </tr>\n",
       "    <tr>\n",
       "      <th>11</th>\n",
       "      <td>Utapau</td>\n",
       "      <td>27</td>\n",
       "      <td>351</td>\n",
       "      <td>12900</td>\n",
       "      <td>temperate, arid, windy</td>\n",
       "      <td>scrublands, savanna, canyons, sinkholes</td>\n",
       "      <td>95000000</td>\n",
       "      <td>1 standard</td>\n",
       "    </tr>\n",
       "    <tr>\n",
       "      <th>12</th>\n",
       "      <td>Mustafar</td>\n",
       "      <td>36</td>\n",
       "      <td>412</td>\n",
       "      <td>4200</td>\n",
       "      <td>hot</td>\n",
       "      <td>volcanoes, lava rivers, mountains, caves</td>\n",
       "      <td>20000</td>\n",
       "      <td>1 standard</td>\n",
       "    </tr>\n",
       "    <tr>\n",
       "      <th>13</th>\n",
       "      <td>Kashyyyk</td>\n",
       "      <td>26</td>\n",
       "      <td>381</td>\n",
       "      <td>12765</td>\n",
       "      <td>tropical</td>\n",
       "      <td>jungle, forests, lakes, rivers</td>\n",
       "      <td>45000000</td>\n",
       "      <td>1 standard</td>\n",
       "    </tr>\n",
       "    <tr>\n",
       "      <th>14</th>\n",
       "      <td>Polis Massa</td>\n",
       "      <td>24</td>\n",
       "      <td>590</td>\n",
       "      <td>0</td>\n",
       "      <td>artificial temperate</td>\n",
       "      <td>airless asteroid</td>\n",
       "      <td>1000000</td>\n",
       "      <td>0.56 standard</td>\n",
       "    </tr>\n",
       "    <tr>\n",
       "      <th>15</th>\n",
       "      <td>Mygeeto</td>\n",
       "      <td>12</td>\n",
       "      <td>167</td>\n",
       "      <td>10088</td>\n",
       "      <td>frigid</td>\n",
       "      <td>glaciers, mountains, ice canyons</td>\n",
       "      <td>19000000</td>\n",
       "      <td>1 standard</td>\n",
       "    </tr>\n",
       "    <tr>\n",
       "      <th>16</th>\n",
       "      <td>Felucia</td>\n",
       "      <td>34</td>\n",
       "      <td>231</td>\n",
       "      <td>9100</td>\n",
       "      <td>hot, humid</td>\n",
       "      <td>fungus forests</td>\n",
       "      <td>8500000</td>\n",
       "      <td>0.75 standard</td>\n",
       "    </tr>\n",
       "    <tr>\n",
       "      <th>17</th>\n",
       "      <td>Cato Neimoidia</td>\n",
       "      <td>25</td>\n",
       "      <td>278</td>\n",
       "      <td>0</td>\n",
       "      <td>temperate, moist</td>\n",
       "      <td>mountains, fields, forests, rock arches</td>\n",
       "      <td>10000000</td>\n",
       "      <td>1 standard</td>\n",
       "    </tr>\n",
       "    <tr>\n",
       "      <th>18</th>\n",
       "      <td>Saleucami</td>\n",
       "      <td>26</td>\n",
       "      <td>392</td>\n",
       "      <td>14920</td>\n",
       "      <td>hot</td>\n",
       "      <td>caves, desert, mountains, volcanoes</td>\n",
       "      <td>1400000000</td>\n",
       "      <td>unknown</td>\n",
       "    </tr>\n",
       "  </tbody>\n",
       "</table>\n",
       "</div>"
      ],
      "text/plain": [
       "             names rotation period orbital period diameter  \\\n",
       "0         Tatooine              23            304    10465   \n",
       "1         Alderaan              24            364    12500   \n",
       "2         Yavin IV              24           4818    10200   \n",
       "3             Hoth              23            549     7200   \n",
       "4          Dagobah              23            341     8900   \n",
       "5           Bespin              12           5110   118000   \n",
       "6            Endor              18            402     4900   \n",
       "7            Naboo              26            312    12120   \n",
       "8        Coruscant              24            368    12240   \n",
       "9           Kamino              27            463    19720   \n",
       "10        Geonosis              30            256    11370   \n",
       "11          Utapau              27            351    12900   \n",
       "12        Mustafar              36            412     4200   \n",
       "13        Kashyyyk              26            381    12765   \n",
       "14     Polis Massa              24            590        0   \n",
       "15         Mygeeto              12            167    10088   \n",
       "16         Felucia              34            231     9100   \n",
       "17  Cato Neimoidia              25            278        0   \n",
       "18       Saleucami              26            392    14920   \n",
       "\n",
       "                   climate                                   terrain  \\\n",
       "0                     arid                                    desert   \n",
       "1                temperate                     grasslands, mountains   \n",
       "2      temperate, tropical                       jungle, rainforests   \n",
       "3                   frozen        tundra, ice caves, mountain ranges   \n",
       "4                    murky                            swamp, jungles   \n",
       "5                temperate                                 gas giant   \n",
       "6                temperate                 forests, mountains, lakes   \n",
       "7                temperate  grassy hills, swamps, forests, mountains   \n",
       "8                temperate                      cityscape, mountains   \n",
       "9                temperate                                     ocean   \n",
       "10         temperate, arid            rock, desert, mountain, barren   \n",
       "11  temperate, arid, windy   scrublands, savanna, canyons, sinkholes   \n",
       "12                     hot  volcanoes, lava rivers, mountains, caves   \n",
       "13                tropical            jungle, forests, lakes, rivers   \n",
       "14   artificial temperate                           airless asteroid   \n",
       "15                  frigid          glaciers, mountains, ice canyons   \n",
       "16              hot, humid                            fungus forests   \n",
       "17        temperate, moist   mountains, fields, forests, rock arches   \n",
       "18                     hot       caves, desert, mountains, volcanoes   \n",
       "\n",
       "       population                                 gravity  \n",
       "0          200000                              1 standard  \n",
       "1      2000000000                              1 standard  \n",
       "2            1000                              1 standard  \n",
       "3         unknown                            1.1 standard  \n",
       "4         unknown                                     N/A  \n",
       "5         6000000  1.5 (surface), 1 standard (Cloud City)  \n",
       "6        30000000                           0.85 standard  \n",
       "7      4500000000                              1 standard  \n",
       "8   1000000000000                              1 standard  \n",
       "9      1000000000                              1 standard  \n",
       "10   100000000000                            0.9 standard  \n",
       "11       95000000                              1 standard  \n",
       "12          20000                              1 standard  \n",
       "13       45000000                              1 standard  \n",
       "14        1000000                           0.56 standard  \n",
       "15       19000000                              1 standard  \n",
       "16        8500000                           0.75 standard  \n",
       "17       10000000                              1 standard  \n",
       "18     1400000000                                 unknown  "
      ]
     },
     "execution_count": 14,
     "metadata": {},
     "output_type": "execute_result"
    }
   ],
   "source": [
    "planets"
   ]
  },
  {
   "cell_type": "code",
   "execution_count": 17,
   "id": "908beabf",
   "metadata": {},
   "outputs": [],
   "source": [
    "planets.to_csv('planets.csv')"
   ]
  },
  {
   "cell_type": "code",
   "execution_count": 86,
   "id": "83a1d603",
   "metadata": {},
   "outputs": [],
   "source": [
    "url02 = 'https://swapi.dev/api/starships/6/'"
   ]
  },
  {
   "cell_type": "code",
   "execution_count": 87,
   "id": "be500c80",
   "metadata": {},
   "outputs": [],
   "source": [
    "response = requests.get(url02)\n"
   ]
  },
  {
   "cell_type": "code",
   "execution_count": 88,
   "id": "eec83c42",
   "metadata": {},
   "outputs": [
    {
     "data": {
      "text/plain": [
       "False"
      ]
     },
     "execution_count": 88,
     "metadata": {},
     "output_type": "execute_result"
    }
   ],
   "source": [
    "response.ok"
   ]
  },
  {
   "cell_type": "code",
   "execution_count": 77,
   "id": "06f66bd2",
   "metadata": {},
   "outputs": [],
   "source": [
    "json02 = response.json()"
   ]
  },
  {
   "cell_type": "code",
   "execution_count": 78,
   "id": "bde9275f",
   "metadata": {
    "scrolled": true
   },
   "outputs": [
    {
     "data": {
      "text/plain": [
       "dict_keys(['name', 'model', 'manufacturer', 'cost_in_credits', 'length', 'max_atmosphering_speed', 'crew', 'passengers', 'cargo_capacity', 'consumables', 'hyperdrive_rating', 'MGLT', 'starship_class', 'pilots', 'films', 'created', 'edited', 'url'])"
      ]
     },
     "execution_count": 78,
     "metadata": {},
     "output_type": "execute_result"
    }
   ],
   "source": [
    "json02.keys()"
   ]
  },
  {
   "cell_type": "code",
   "execution_count": 71,
   "id": "25fea527",
   "metadata": {},
   "outputs": [],
   "source": [
    "url03 = 'https://swapi.dev/api/starships/'"
   ]
  },
  {
   "cell_type": "code",
   "execution_count": 107,
   "id": "5d33e092",
   "metadata": {},
   "outputs": [],
   "source": [
    "names = []\n",
    "model = []\n",
    "manufacturer = []\n",
    "cost_in_credits = []\n",
    "length = []\n",
    "max_atmosphering_speed = []\n",
    "crew = []\n",
    "passengers = []\n",
    "cargo_capacity = []\n",
    "consumables = []\n",
    "hyperdrive_rating = []\n",
    "MGLT = []\n",
    "starship_class = []\n",
    "pilots = []\n",
    "\n",
    "\n",
    "for i in range(2,200):\n",
    "    \n",
    "    new_url = url03 + f'{i}/'\n",
    "    response = requests.get(new_url)\n",
    "    if response.ok == False:\n",
    "        continue\n",
    "    json = response.json()\n",
    "    \n",
    "    names.append(json['name'])\n",
    "    model.append(json['model'])\n",
    "    manufacturer.append(json['manufacturer'])\n",
    "    cost_in_credits.append(json['cost_in_credits'])\n",
    "    length.append(json['length'])\n",
    "    max_atmosphering_speed.append(json['max_atmosphering_speed'])\n",
    "    crew.append(json['crew'])\n",
    "    passengers.append(json['passengers'])\n",
    "    cargo_capacity.append(json['cargo_capacity'])\n",
    "    consumables.append(json['consumables'])\n",
    "    hyperdrive_rating.append(json['hyperdrive_rating'])\n",
    "    MGLT.append(json['MGLT'])\n",
    "    starship_class.append(json['starship_class'])\n",
    "    pilots.append(json['pilots'])"
   ]
  },
  {
   "cell_type": "code",
   "execution_count": 108,
   "id": "24008a6d",
   "metadata": {},
   "outputs": [
    {
     "data": {
      "text/plain": [
       "36"
      ]
     },
     "execution_count": 108,
     "metadata": {},
     "output_type": "execute_result"
    }
   ],
   "source": [
    "len(names)"
   ]
  },
  {
   "cell_type": "code",
   "execution_count": 111,
   "id": "ad04aad0",
   "metadata": {},
   "outputs": [],
   "source": [
    "starships = pd.DataFrame({'names':names,\n",
    "                         'model': model, \n",
    "                         'manufacturer': manufacturer,\n",
    "                         'cost_in_credits': cost_in_credits, \n",
    "                          'length':length, \n",
    "                          'max_atmosphering_speed': max_atmosphering_speed,\n",
    "                          'crew':crew,                        \n",
    "                          'passengers':passengers, \n",
    "                          'cargo_capacity': cargo_capacity,\n",
    "                          'consumables': consumables,\n",
    "                          'hyperdrive_rating':hyperdrive_rating,     \n",
    "                          'MGLT' :MGLT,\n",
    "                          'starship_class':starship_class,\n",
    "                          'pilots': pilots})\n"
   ]
  },
  {
   "cell_type": "code",
   "execution_count": 113,
   "id": "7a96722a",
   "metadata": {},
   "outputs": [],
   "source": [
    "starships.to_csv('starships.csv')"
   ]
  },
  {
   "cell_type": "code",
   "execution_count": 143,
   "id": "a7c62fa3",
   "metadata": {},
   "outputs": [],
   "source": [
    "germany = pd.read_csv('https://raw.githubusercontent.com/jenfly/opsd/master/opsd_germany_daily.csv')"
   ]
  },
  {
   "cell_type": "code",
   "execution_count": 145,
   "id": "6c30c6ce",
   "metadata": {},
   "outputs": [
    {
     "data": {
      "text/html": [
       "<div>\n",
       "<style scoped>\n",
       "    .dataframe tbody tr th:only-of-type {\n",
       "        vertical-align: middle;\n",
       "    }\n",
       "\n",
       "    .dataframe tbody tr th {\n",
       "        vertical-align: top;\n",
       "    }\n",
       "\n",
       "    .dataframe thead th {\n",
       "        text-align: right;\n",
       "    }\n",
       "</style>\n",
       "<table border=\"1\" class=\"dataframe\">\n",
       "  <thead>\n",
       "    <tr style=\"text-align: right;\">\n",
       "      <th></th>\n",
       "      <th>Date</th>\n",
       "      <th>Consumption</th>\n",
       "      <th>Wind</th>\n",
       "      <th>Solar</th>\n",
       "      <th>Wind+Solar</th>\n",
       "    </tr>\n",
       "  </thead>\n",
       "  <tbody>\n",
       "    <tr>\n",
       "      <th>2332</th>\n",
       "      <td>2012-05-21</td>\n",
       "      <td>1327.358</td>\n",
       "      <td>121.186</td>\n",
       "      <td>127.468</td>\n",
       "      <td>248.654</td>\n",
       "    </tr>\n",
       "    <tr>\n",
       "      <th>2342</th>\n",
       "      <td>2012-05-31</td>\n",
       "      <td>1371.961</td>\n",
       "      <td>57.814</td>\n",
       "      <td>105.132</td>\n",
       "      <td>162.946</td>\n",
       "    </tr>\n",
       "    <tr>\n",
       "      <th>1989</th>\n",
       "      <td>2011-06-13</td>\n",
       "      <td>995.460</td>\n",
       "      <td>62.986</td>\n",
       "      <td>NaN</td>\n",
       "      <td>NaN</td>\n",
       "    </tr>\n",
       "    <tr>\n",
       "      <th>1689</th>\n",
       "      <td>2010-08-17</td>\n",
       "      <td>1365.176</td>\n",
       "      <td>121.486</td>\n",
       "      <td>NaN</td>\n",
       "      <td>NaN</td>\n",
       "    </tr>\n",
       "    <tr>\n",
       "      <th>1946</th>\n",
       "      <td>2011-05-01</td>\n",
       "      <td>971.752</td>\n",
       "      <td>141.623</td>\n",
       "      <td>NaN</td>\n",
       "      <td>NaN</td>\n",
       "    </tr>\n",
       "    <tr>\n",
       "      <th>3193</th>\n",
       "      <td>2014-09-29</td>\n",
       "      <td>1418.665</td>\n",
       "      <td>32.290</td>\n",
       "      <td>113.405</td>\n",
       "      <td>145.695</td>\n",
       "    </tr>\n",
       "    <tr>\n",
       "      <th>3248</th>\n",
       "      <td>2014-11-23</td>\n",
       "      <td>1192.159</td>\n",
       "      <td>175.713</td>\n",
       "      <td>43.610</td>\n",
       "      <td>219.323</td>\n",
       "    </tr>\n",
       "    <tr>\n",
       "      <th>3872</th>\n",
       "      <td>2016-08-08</td>\n",
       "      <td>1339.952</td>\n",
       "      <td>350.032</td>\n",
       "      <td>172.576</td>\n",
       "      <td>522.608</td>\n",
       "    </tr>\n",
       "    <tr>\n",
       "      <th>391</th>\n",
       "      <td>2007-01-27</td>\n",
       "      <td>1392.674</td>\n",
       "      <td>NaN</td>\n",
       "      <td>NaN</td>\n",
       "      <td>NaN</td>\n",
       "    </tr>\n",
       "    <tr>\n",
       "      <th>1372</th>\n",
       "      <td>2009-10-04</td>\n",
       "      <td>1107.416</td>\n",
       "      <td>NaN</td>\n",
       "      <td>NaN</td>\n",
       "      <td>NaN</td>\n",
       "    </tr>\n",
       "  </tbody>\n",
       "</table>\n",
       "</div>"
      ],
      "text/plain": [
       "            Date  Consumption     Wind    Solar  Wind+Solar\n",
       "2332  2012-05-21     1327.358  121.186  127.468     248.654\n",
       "2342  2012-05-31     1371.961   57.814  105.132     162.946\n",
       "1989  2011-06-13      995.460   62.986      NaN         NaN\n",
       "1689  2010-08-17     1365.176  121.486      NaN         NaN\n",
       "1946  2011-05-01      971.752  141.623      NaN         NaN\n",
       "3193  2014-09-29     1418.665   32.290  113.405     145.695\n",
       "3248  2014-11-23     1192.159  175.713   43.610     219.323\n",
       "3872  2016-08-08     1339.952  350.032  172.576     522.608\n",
       "391   2007-01-27     1392.674      NaN      NaN         NaN\n",
       "1372  2009-10-04     1107.416      NaN      NaN         NaN"
      ]
     },
     "execution_count": 145,
     "metadata": {},
     "output_type": "execute_result"
    }
   ],
   "source": [
    "germany.sample(10)"
   ]
  },
  {
   "cell_type": "code",
   "execution_count": null,
   "id": "13a85063",
   "metadata": {},
   "outputs": [],
   "source": []
  }
 ],
 "metadata": {
  "kernelspec": {
   "display_name": "Python 3 (ipykernel)",
   "language": "python",
   "name": "python3"
  },
  "language_info": {
   "codemirror_mode": {
    "name": "ipython",
    "version": 3
   },
   "file_extension": ".py",
   "mimetype": "text/x-python",
   "name": "python",
   "nbconvert_exporter": "python",
   "pygments_lexer": "ipython3",
   "version": "3.9.13"
  }
 },
 "nbformat": 4,
 "nbformat_minor": 5
}
