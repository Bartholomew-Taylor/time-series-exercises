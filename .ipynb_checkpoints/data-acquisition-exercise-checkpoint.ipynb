{
 "cells": [
  {
   "cell_type": "code",
   "execution_count": 1,
   "id": "e0cc9313",
   "metadata": {},
   "outputs": [],
   "source": [
    "import requests\n",
    "import pandas as pd"
   ]
  },
  {
   "cell_type": "code",
   "execution_count": 13,
   "id": "aed5f17e",
   "metadata": {},
   "outputs": [],
   "source": [
    "url = 'https://swapi.dev/api/planets/'"
   ]
  },
  {
   "cell_type": "code",
   "execution_count": 6,
   "id": "124a7cab",
   "metadata": {},
   "outputs": [],
   "source": [
    "response = requests.get(url)"
   ]
  },
  {
   "cell_type": "code",
   "execution_count": 7,
   "id": "8e9bf9de",
   "metadata": {},
   "outputs": [
    {
     "data": {
      "text/plain": [
       "True"
      ]
     },
     "execution_count": 7,
     "metadata": {},
     "output_type": "execute_result"
    }
   ],
   "source": [
    "response.ok"
   ]
  },
  {
   "cell_type": "code",
   "execution_count": 11,
   "id": "9e43573c",
   "metadata": {},
   "outputs": [],
   "source": [
    "json = response.json()"
   ]
  },
  {
   "cell_type": "code",
   "execution_count": 12,
   "id": "42cc4f06",
   "metadata": {},
   "outputs": [
    {
     "data": {
      "text/plain": [
       "dict_keys(['name', 'rotation_period', 'orbital_period', 'diameter', 'climate', 'gravity', 'terrain', 'surface_water', 'population', 'residents', 'films', 'created', 'edited', 'url'])"
      ]
     },
     "execution_count": 12,
     "metadata": {},
     "output_type": "execute_result"
    }
   ],
   "source": [
    "json.keys()"
   ]
  },
  {
   "cell_type": "code",
   "execution_count": 45,
   "id": "f56db476",
   "metadata": {},
   "outputs": [],
   "source": [
    "names = []\n",
    "rotation_period = []\n",
    "orbital_period = []\n",
    "diameter = []\n",
    "climate = []\n",
    "terrain = []\n",
    "population = []\n",
    "gravity = []\n"
   ]
  },
  {
   "cell_type": "code",
   "execution_count": 46,
   "id": "971c515c",
   "metadata": {},
   "outputs": [],
   "source": [
    "for i in range(1, 20):\n",
    "    new_url = url + f'{i}/'\n",
    "    response = requests.get(new_url)\n",
    "    json = response.json()\n",
    "    \n",
    "    names.append(json['name'])\n",
    "    rotation_period.append(json['rotation_period'])\n",
    "    orbital_period.append(json['orbital_period'])\n",
    "    diameter.append(json['diameter'])\n",
    "    climate.append(json['climate'])\n",
    "    terrain.append(json['terrain'])\n",
    "    population.append(json['population'])\n",
    "    gravity.append(json['gravity'])\n",
    "    "
   ]
  },
  {
   "cell_type": "code",
   "execution_count": 47,
   "id": "68a8aa6d",
   "metadata": {},
   "outputs": [
    {
     "data": {
      "text/plain": [
       "(19, 19, 19, 19, 19, 19, 19, 19)"
      ]
     },
     "execution_count": 47,
     "metadata": {},
     "output_type": "execute_result"
    }
   ],
   "source": [
    "len(names), len(rotation_period), len(orbital_period), len(diameter), len(climate), len(terrain), len(population), len(gravity)\n",
    "\n"
   ]
  },
  {
   "cell_type": "code",
   "execution_count": 48,
   "id": "5c840d3a",
   "metadata": {},
   "outputs": [
    {
     "data": {
      "text/plain": [
       "['Tatooine',\n",
       " 'Alderaan',\n",
       " 'Yavin IV',\n",
       " 'Hoth',\n",
       " 'Dagobah',\n",
       " 'Bespin',\n",
       " 'Endor',\n",
       " 'Naboo',\n",
       " 'Coruscant',\n",
       " 'Kamino',\n",
       " 'Geonosis',\n",
       " 'Utapau',\n",
       " 'Mustafar',\n",
       " 'Kashyyyk',\n",
       " 'Polis Massa',\n",
       " 'Mygeeto',\n",
       " 'Felucia',\n",
       " 'Cato Neimoidia',\n",
       " 'Saleucami']"
      ]
     },
     "execution_count": 48,
     "metadata": {},
     "output_type": "execute_result"
    }
   ],
   "source": [
    "names"
   ]
  },
  {
   "cell_type": "code",
   "execution_count": 52,
   "id": "88c1c8e3",
   "metadata": {},
   "outputs": [],
   "source": [
    "planets = pd.DataFrame({'names': names,\n",
    "              'rotation period':rotation_period,\n",
    "              'orbital period': orbital_period,\n",
    "              'diameter':diameter,\n",
    "              'climate': climate,\n",
    "              'terrain':terrain,\n",
    "              'population': population,\n",
    "              'gravity':gravity})\n"
   ]
  },
  {
   "cell_type": "code",
   "execution_count": 53,
   "id": "e4365456",
   "metadata": {},
   "outputs": [
    {
     "data": {
      "text/html": [
       "<div>\n",
       "<style scoped>\n",
       "    .dataframe tbody tr th:only-of-type {\n",
       "        vertical-align: middle;\n",
       "    }\n",
       "\n",
       "    .dataframe tbody tr th {\n",
       "        vertical-align: top;\n",
       "    }\n",
       "\n",
       "    .dataframe thead th {\n",
       "        text-align: right;\n",
       "    }\n",
       "</style>\n",
       "<table border=\"1\" class=\"dataframe\">\n",
       "  <thead>\n",
       "    <tr style=\"text-align: right;\">\n",
       "      <th></th>\n",
       "      <th>names</th>\n",
       "      <th>rotation period</th>\n",
       "      <th>orbital period</th>\n",
       "      <th>diameter</th>\n",
       "      <th>climate</th>\n",
       "      <th>terrain</th>\n",
       "      <th>population</th>\n",
       "      <th>gravity</th>\n",
       "    </tr>\n",
       "  </thead>\n",
       "  <tbody>\n",
       "    <tr>\n",
       "      <th>0</th>\n",
       "      <td>Tatooine</td>\n",
       "      <td>23</td>\n",
       "      <td>304</td>\n",
       "      <td>10465</td>\n",
       "      <td>arid</td>\n",
       "      <td>desert</td>\n",
       "      <td>200000</td>\n",
       "      <td>1 standard</td>\n",
       "    </tr>\n",
       "    <tr>\n",
       "      <th>1</th>\n",
       "      <td>Alderaan</td>\n",
       "      <td>24</td>\n",
       "      <td>364</td>\n",
       "      <td>12500</td>\n",
       "      <td>temperate</td>\n",
       "      <td>grasslands, mountains</td>\n",
       "      <td>2000000000</td>\n",
       "      <td>1 standard</td>\n",
       "    </tr>\n",
       "    <tr>\n",
       "      <th>2</th>\n",
       "      <td>Yavin IV</td>\n",
       "      <td>24</td>\n",
       "      <td>4818</td>\n",
       "      <td>10200</td>\n",
       "      <td>temperate, tropical</td>\n",
       "      <td>jungle, rainforests</td>\n",
       "      <td>1000</td>\n",
       "      <td>1 standard</td>\n",
       "    </tr>\n",
       "    <tr>\n",
       "      <th>3</th>\n",
       "      <td>Hoth</td>\n",
       "      <td>23</td>\n",
       "      <td>549</td>\n",
       "      <td>7200</td>\n",
       "      <td>frozen</td>\n",
       "      <td>tundra, ice caves, mountain ranges</td>\n",
       "      <td>unknown</td>\n",
       "      <td>1.1 standard</td>\n",
       "    </tr>\n",
       "    <tr>\n",
       "      <th>4</th>\n",
       "      <td>Dagobah</td>\n",
       "      <td>23</td>\n",
       "      <td>341</td>\n",
       "      <td>8900</td>\n",
       "      <td>murky</td>\n",
       "      <td>swamp, jungles</td>\n",
       "      <td>unknown</td>\n",
       "      <td>N/A</td>\n",
       "    </tr>\n",
       "    <tr>\n",
       "      <th>5</th>\n",
       "      <td>Bespin</td>\n",
       "      <td>12</td>\n",
       "      <td>5110</td>\n",
       "      <td>118000</td>\n",
       "      <td>temperate</td>\n",
       "      <td>gas giant</td>\n",
       "      <td>6000000</td>\n",
       "      <td>1.5 (surface), 1 standard (Cloud City)</td>\n",
       "    </tr>\n",
       "    <tr>\n",
       "      <th>6</th>\n",
       "      <td>Endor</td>\n",
       "      <td>18</td>\n",
       "      <td>402</td>\n",
       "      <td>4900</td>\n",
       "      <td>temperate</td>\n",
       "      <td>forests, mountains, lakes</td>\n",
       "      <td>30000000</td>\n",
       "      <td>0.85 standard</td>\n",
       "    </tr>\n",
       "    <tr>\n",
       "      <th>7</th>\n",
       "      <td>Naboo</td>\n",
       "      <td>26</td>\n",
       "      <td>312</td>\n",
       "      <td>12120</td>\n",
       "      <td>temperate</td>\n",
       "      <td>grassy hills, swamps, forests, mountains</td>\n",
       "      <td>4500000000</td>\n",
       "      <td>1 standard</td>\n",
       "    </tr>\n",
       "    <tr>\n",
       "      <th>8</th>\n",
       "      <td>Coruscant</td>\n",
       "      <td>24</td>\n",
       "      <td>368</td>\n",
       "      <td>12240</td>\n",
       "      <td>temperate</td>\n",
       "      <td>cityscape, mountains</td>\n",
       "      <td>1000000000000</td>\n",
       "      <td>1 standard</td>\n",
       "    </tr>\n",
       "    <tr>\n",
       "      <th>9</th>\n",
       "      <td>Kamino</td>\n",
       "      <td>27</td>\n",
       "      <td>463</td>\n",
       "      <td>19720</td>\n",
       "      <td>temperate</td>\n",
       "      <td>ocean</td>\n",
       "      <td>1000000000</td>\n",
       "      <td>1 standard</td>\n",
       "    </tr>\n",
       "    <tr>\n",
       "      <th>10</th>\n",
       "      <td>Geonosis</td>\n",
       "      <td>30</td>\n",
       "      <td>256</td>\n",
       "      <td>11370</td>\n",
       "      <td>temperate, arid</td>\n",
       "      <td>rock, desert, mountain, barren</td>\n",
       "      <td>100000000000</td>\n",
       "      <td>0.9 standard</td>\n",
       "    </tr>\n",
       "    <tr>\n",
       "      <th>11</th>\n",
       "      <td>Utapau</td>\n",
       "      <td>27</td>\n",
       "      <td>351</td>\n",
       "      <td>12900</td>\n",
       "      <td>temperate, arid, windy</td>\n",
       "      <td>scrublands, savanna, canyons, sinkholes</td>\n",
       "      <td>95000000</td>\n",
       "      <td>1 standard</td>\n",
       "    </tr>\n",
       "    <tr>\n",
       "      <th>12</th>\n",
       "      <td>Mustafar</td>\n",
       "      <td>36</td>\n",
       "      <td>412</td>\n",
       "      <td>4200</td>\n",
       "      <td>hot</td>\n",
       "      <td>volcanoes, lava rivers, mountains, caves</td>\n",
       "      <td>20000</td>\n",
       "      <td>1 standard</td>\n",
       "    </tr>\n",
       "    <tr>\n",
       "      <th>13</th>\n",
       "      <td>Kashyyyk</td>\n",
       "      <td>26</td>\n",
       "      <td>381</td>\n",
       "      <td>12765</td>\n",
       "      <td>tropical</td>\n",
       "      <td>jungle, forests, lakes, rivers</td>\n",
       "      <td>45000000</td>\n",
       "      <td>1 standard</td>\n",
       "    </tr>\n",
       "    <tr>\n",
       "      <th>14</th>\n",
       "      <td>Polis Massa</td>\n",
       "      <td>24</td>\n",
       "      <td>590</td>\n",
       "      <td>0</td>\n",
       "      <td>artificial temperate</td>\n",
       "      <td>airless asteroid</td>\n",
       "      <td>1000000</td>\n",
       "      <td>0.56 standard</td>\n",
       "    </tr>\n",
       "    <tr>\n",
       "      <th>15</th>\n",
       "      <td>Mygeeto</td>\n",
       "      <td>12</td>\n",
       "      <td>167</td>\n",
       "      <td>10088</td>\n",
       "      <td>frigid</td>\n",
       "      <td>glaciers, mountains, ice canyons</td>\n",
       "      <td>19000000</td>\n",
       "      <td>1 standard</td>\n",
       "    </tr>\n",
       "    <tr>\n",
       "      <th>16</th>\n",
       "      <td>Felucia</td>\n",
       "      <td>34</td>\n",
       "      <td>231</td>\n",
       "      <td>9100</td>\n",
       "      <td>hot, humid</td>\n",
       "      <td>fungus forests</td>\n",
       "      <td>8500000</td>\n",
       "      <td>0.75 standard</td>\n",
       "    </tr>\n",
       "    <tr>\n",
       "      <th>17</th>\n",
       "      <td>Cato Neimoidia</td>\n",
       "      <td>25</td>\n",
       "      <td>278</td>\n",
       "      <td>0</td>\n",
       "      <td>temperate, moist</td>\n",
       "      <td>mountains, fields, forests, rock arches</td>\n",
       "      <td>10000000</td>\n",
       "      <td>1 standard</td>\n",
       "    </tr>\n",
       "    <tr>\n",
       "      <th>18</th>\n",
       "      <td>Saleucami</td>\n",
       "      <td>26</td>\n",
       "      <td>392</td>\n",
       "      <td>14920</td>\n",
       "      <td>hot</td>\n",
       "      <td>caves, desert, mountains, volcanoes</td>\n",
       "      <td>1400000000</td>\n",
       "      <td>unknown</td>\n",
       "    </tr>\n",
       "  </tbody>\n",
       "</table>\n",
       "</div>"
      ],
      "text/plain": [
       "             names rotation period orbital period diameter  \\\n",
       "0         Tatooine              23            304    10465   \n",
       "1         Alderaan              24            364    12500   \n",
       "2         Yavin IV              24           4818    10200   \n",
       "3             Hoth              23            549     7200   \n",
       "4          Dagobah              23            341     8900   \n",
       "5           Bespin              12           5110   118000   \n",
       "6            Endor              18            402     4900   \n",
       "7            Naboo              26            312    12120   \n",
       "8        Coruscant              24            368    12240   \n",
       "9           Kamino              27            463    19720   \n",
       "10        Geonosis              30            256    11370   \n",
       "11          Utapau              27            351    12900   \n",
       "12        Mustafar              36            412     4200   \n",
       "13        Kashyyyk              26            381    12765   \n",
       "14     Polis Massa              24            590        0   \n",
       "15         Mygeeto              12            167    10088   \n",
       "16         Felucia              34            231     9100   \n",
       "17  Cato Neimoidia              25            278        0   \n",
       "18       Saleucami              26            392    14920   \n",
       "\n",
       "                   climate                                   terrain  \\\n",
       "0                     arid                                    desert   \n",
       "1                temperate                     grasslands, mountains   \n",
       "2      temperate, tropical                       jungle, rainforests   \n",
       "3                   frozen        tundra, ice caves, mountain ranges   \n",
       "4                    murky                            swamp, jungles   \n",
       "5                temperate                                 gas giant   \n",
       "6                temperate                 forests, mountains, lakes   \n",
       "7                temperate  grassy hills, swamps, forests, mountains   \n",
       "8                temperate                      cityscape, mountains   \n",
       "9                temperate                                     ocean   \n",
       "10         temperate, arid            rock, desert, mountain, barren   \n",
       "11  temperate, arid, windy   scrublands, savanna, canyons, sinkholes   \n",
       "12                     hot  volcanoes, lava rivers, mountains, caves   \n",
       "13                tropical            jungle, forests, lakes, rivers   \n",
       "14   artificial temperate                           airless asteroid   \n",
       "15                  frigid          glaciers, mountains, ice canyons   \n",
       "16              hot, humid                            fungus forests   \n",
       "17        temperate, moist   mountains, fields, forests, rock arches   \n",
       "18                     hot       caves, desert, mountains, volcanoes   \n",
       "\n",
       "       population                                 gravity  \n",
       "0          200000                              1 standard  \n",
       "1      2000000000                              1 standard  \n",
       "2            1000                              1 standard  \n",
       "3         unknown                            1.1 standard  \n",
       "4         unknown                                     N/A  \n",
       "5         6000000  1.5 (surface), 1 standard (Cloud City)  \n",
       "6        30000000                           0.85 standard  \n",
       "7      4500000000                              1 standard  \n",
       "8   1000000000000                              1 standard  \n",
       "9      1000000000                              1 standard  \n",
       "10   100000000000                            0.9 standard  \n",
       "11       95000000                              1 standard  \n",
       "12          20000                              1 standard  \n",
       "13       45000000                              1 standard  \n",
       "14        1000000                           0.56 standard  \n",
       "15       19000000                              1 standard  \n",
       "16        8500000                           0.75 standard  \n",
       "17       10000000                              1 standard  \n",
       "18     1400000000                                 unknown  "
      ]
     },
     "execution_count": 53,
     "metadata": {},
     "output_type": "execute_result"
    }
   ],
   "source": [
    "planets"
   ]
  },
  {
   "cell_type": "code",
   "execution_count": 88,
   "id": "83a1d603",
   "metadata": {},
   "outputs": [],
   "source": [
    "url02 = 'https://swapi.dev/api/starships/2/'"
   ]
  },
  {
   "cell_type": "code",
   "execution_count": 89,
   "id": "be500c80",
   "metadata": {},
   "outputs": [],
   "source": [
    "response = requests.get(url02)"
   ]
  },
  {
   "cell_type": "code",
   "execution_count": 90,
   "id": "eec83c42",
   "metadata": {},
   "outputs": [
    {
     "data": {
      "text/plain": [
       "True"
      ]
     },
     "execution_count": 90,
     "metadata": {},
     "output_type": "execute_result"
    }
   ],
   "source": [
    "response.ok"
   ]
  },
  {
   "cell_type": "code",
   "execution_count": 91,
   "id": "06f66bd2",
   "metadata": {},
   "outputs": [],
   "source": [
    "json02 = response.json()"
   ]
  },
  {
   "cell_type": "code",
   "execution_count": 92,
   "id": "bde9275f",
   "metadata": {},
   "outputs": [
    {
     "data": {
      "text/plain": [
       "dict_keys(['name', 'model', 'manufacturer', 'cost_in_credits', 'length', 'max_atmosphering_speed', 'crew', 'passengers', 'cargo_capacity', 'consumables', 'hyperdrive_rating', 'MGLT', 'starship_class', 'pilots', 'films', 'created', 'edited', 'url'])"
      ]
     },
     "execution_count": 92,
     "metadata": {},
     "output_type": "execute_result"
    }
   ],
   "source": [
    "json02.keys()"
   ]
  },
  {
   "cell_type": "code",
   "execution_count": null,
   "id": "5d33e092",
   "metadata": {},
   "outputs": [],
   "source": [
    "names = []\n",
    "model = []\n",
    "manufacturer = []\n",
    "cost_in_credits = []\n",
    "length = []\n",
    "max_atmosphering_speed = []\n",
    "crew passengers = []\n",
    "cargo_capacity = []\n",
    "consumableshyperdrive_rating = []\n",
    "MGLT = []\n",
    "starship_class = []\n",
    "pilots = []\n",
    "\n",
    "\n",
    "for i in range(2, 20):\n",
    "    new_url = url02 + f'{i}/'\n",
    "    response = requests.get(new_url)\n",
    "    json = response.json()"
   ]
  }
 ],
 "metadata": {
  "kernelspec": {
   "display_name": "Python 3 (ipykernel)",
   "language": "python",
   "name": "python3"
  },
  "language_info": {
   "codemirror_mode": {
    "name": "ipython",
    "version": 3
   },
   "file_extension": ".py",
   "mimetype": "text/x-python",
   "name": "python",
   "nbconvert_exporter": "python",
   "pygments_lexer": "ipython3",
   "version": "3.9.13"
  }
 },
 "nbformat": 4,
 "nbformat_minor": 5
}
